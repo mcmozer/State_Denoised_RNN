{
 "cells": [
  {
   "cell_type": "markdown",
   "metadata": {},
   "source": [
    "NOTE THAT set_random_seed IS BELOW THE VARIABLE DEFINITIONS"
   ]
  },
  {
   "cell_type": "code",
   "execution_count": 1,
   "metadata": {},
   "outputs": [
    {
     "name": "stdout",
     "output_type": "stream",
     "text": [
      "('a: ', array([ 0.48358715,  1.03285837,  0.13339572], dtype=float32))\n",
      "('b: ', array([ 0.28768945,  0.82658041,  0.91215777], dtype=float32))\n",
      "('a: ', array([-0.15429488,  0.79910028,  1.23973656], dtype=float32))\n",
      "('b: ', array([ 0.47894108,  0.8747108 ,  0.46946692], dtype=float32))\n"
     ]
    }
   ],
   "source": [
    "import tensorflow as tf\n",
    "import numpy as np\n",
    "import random\n",
    "\n",
    "a = tf.get_variable(\"a\",initializer=tf.random_normal([3]))\n",
    "b = tf.get_variable(\"b\",initializer=tf.random_uniform([3]))\n",
    "\n",
    "# MULTIPLE RUNS DO NOT REPLICATE IF I PLACE RANDOM_SEED HERE\n",
    "tf.set_random_seed(1234)\n",
    "\n",
    "init = tf.global_variables_initializer()\n",
    "with tf.Session() as sess1:\n",
    "    for i in range(0,2):\n",
    "        sess1.run(init)\n",
    "        print('a: ',sess1.run(a))  \n",
    "        print('b: ',sess1.run(b)) "
   ]
  },
  {
   "cell_type": "markdown",
   "metadata": {},
   "source": [
    "WHEN I RUN THE SAME CODE AGAIN, THE OUTPUT IS DIFFERENT"
   ]
  },
  {
   "cell_type": "code",
   "execution_count": null,
   "metadata": {},
   "outputs": [],
   "source": [
    "import sys\n",
    ">>> sys.modules[__name__].__dict__.clear()"
   ]
  },
  {
   "cell_type": "code",
   "execution_count": 1,
   "metadata": {},
   "outputs": [
    {
     "name": "stdout",
     "output_type": "stream",
     "text": [
      "('a: ', array([ 0.2497725 , -0.82497317,  0.81443709], dtype=float32))\n",
      "('b: ', array([ 0.47961581,  0.51124454,  0.10622156], dtype=float32))\n",
      "('a: ', array([ 1.32754004, -0.6060515 , -0.18702053], dtype=float32))\n",
      "('b: ', array([ 0.15478921,  0.5984956 ,  0.30680513], dtype=float32))\n"
     ]
    }
   ],
   "source": [
    "import tensorflow as tf\n",
    "import numpy as np\n",
    "import random\n",
    "\n",
    "a = tf.get_variable(\"a\",initializer=tf.random_normal([3]))\n",
    "b = tf.get_variable(\"b\",initializer=tf.random_uniform([3]))\n",
    "\n",
    "# MULTIPLE RUNS DO NOT REPLICATE IF I PLACE RANDOM_SEED HERE\n",
    "tf.set_random_seed(1234)\n",
    "\n",
    "init = tf.global_variables_initializer()\n",
    "with tf.Session() as sess1:\n",
    "    for i in range(0,2):\n",
    "        sess1.run(init)\n",
    "        print('a: ',sess1.run(a))  \n",
    "        print('b: ',sess1.run(b)) "
   ]
  },
  {
   "cell_type": "markdown",
   "metadata": {},
   "source": [
    "BUT WHEN I PLACE THE set_random_seed ABOVE THE VARIABLE DEFINITIONS, I GET THE SAME RESULTS ON TWO RUNS"
   ]
  },
  {
   "cell_type": "code",
   "execution_count": null,
   "metadata": {},
   "outputs": [],
   "source": [
    "import sys\n",
    ">>> sys.modules[__name__].__dict__.clear()"
   ]
  },
  {
   "cell_type": "code",
   "execution_count": 1,
   "metadata": {},
   "outputs": [
    {
     "name": "stdout",
     "output_type": "stream",
     "text": [
      "('a: ', array([-0.13862522, -0.24789245, -0.22179745], dtype=float32))\n",
      "('b: ', array([ 0.01017106,  0.53721404,  0.68225479], dtype=float32))\n",
      "('a: ', array([-0.66974747, -0.47741002, -1.25475109], dtype=float32))\n",
      "('b: ', array([ 0.82546639,  0.96254086,  0.4677161 ], dtype=float32))\n"
     ]
    }
   ],
   "source": [
    "import tensorflow as tf\n",
    "import numpy as np\n",
    "import random\n",
    "\n",
    "# MULTIPLE RUNS DO REPLICATE IF I PLACE RANDOM_SEED HERE\n",
    "tf.set_random_seed(1234)\n",
    "\n",
    "a = tf.get_variable(\"a\",initializer=tf.random_normal([3]))\n",
    "b = tf.get_variable(\"b\",initializer=tf.random_uniform([3]))\n",
    "\n",
    "init = tf.global_variables_initializer()\n",
    "with tf.Session() as sess1:\n",
    "    for i in range(0,2):\n",
    "        sess1.run(init)\n",
    "        print('a: ',sess1.run(a))  \n",
    "        print('b: ',sess1.run(b)) "
   ]
  },
  {
   "cell_type": "code",
   "execution_count": null,
   "metadata": {},
   "outputs": [],
   "source": [
    "import sys\n",
    ">>> sys.modules[__name__].__dict__.clear()"
   ]
  },
  {
   "cell_type": "code",
   "execution_count": 1,
   "metadata": {},
   "outputs": [
    {
     "name": "stdout",
     "output_type": "stream",
     "text": [
      "('a: ', array([-0.13862522, -0.24789245, -0.22179745], dtype=float32))\n",
      "('b: ', array([ 0.01017106,  0.53721404,  0.68225479], dtype=float32))\n",
      "('a: ', array([-0.66974747, -0.47741002, -1.25475109], dtype=float32))\n",
      "('b: ', array([ 0.82546639,  0.96254086,  0.4677161 ], dtype=float32))\n"
     ]
    }
   ],
   "source": [
    "import tensorflow as tf\n",
    "import numpy as np\n",
    "import random\n",
    "\n",
    "# MULTIPLE RUNS DO REPLICATE IF I PLACE RANDOM_SEED HERE\n",
    "tf.set_random_seed(1234)\n",
    "\n",
    "a = tf.get_variable(\"a\",initializer=tf.random_normal([3]))\n",
    "b = tf.get_variable(\"b\",initializer=tf.random_uniform([3]))\n",
    "\n",
    "init = tf.global_variables_initializer()\n",
    "with tf.Session() as sess1:\n",
    "    for i in range(0,2):\n",
    "        sess1.run(init)\n",
    "        print('a: ',sess1.run(a))  \n",
    "        print('b: ',sess1.run(b)) "
   ]
  }
 ],
 "metadata": {
  "kernelspec": {
   "display_name": "Python 2",
   "language": "python",
   "name": "python2"
  },
  "language_info": {
   "codemirror_mode": {
    "name": "ipython",
    "version": 2
   },
   "file_extension": ".py",
   "mimetype": "text/x-python",
   "name": "python",
   "nbconvert_exporter": "python",
   "pygments_lexer": "ipython2",
   "version": "2.7.13"
  }
 },
 "nbformat": 4,
 "nbformat_minor": 2
}
